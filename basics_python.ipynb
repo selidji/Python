{
  "cells": [
    {
      "cell_type": "markdown",
      "source": [
        "***Selidji Tossou***\n",
        "\n",
        "These codes are generated using *Google Colaboratory*\n",
        "---\n",
        "\n",
        "\n",
        "---\n",
        "\n",
        "\n",
        "\n",
        "\n",
        "# Basics of Python"
      ],
      "metadata": {
        "id": "gboQmnd9EEz2"
      }
    },
    {
      "cell_type": "markdown",
      "metadata": {
        "id": "71pKOya_utly"
      },
      "source": [
        "<a id = 'sec1'></a>\n",
        "\n",
        "## I. Variables"
      ]
    },
    {
      "cell_type": "markdown",
      "metadata": {
        "id": "LHam5CH0utly"
      },
      "source": [
        "## 1. *Value assignment* and *type* of variable\n",
        "I am assigning respectively values **30.5** and **51** to variables **a** and **b**, and then I am computing the summ of **a + b** called **sum**"
      ]
    },
    {
      "cell_type": "code",
      "execution_count": 1,
      "metadata": {
        "ExecuteTime": {
          "end_time": "2021-05-20T14:48:25.469356Z",
          "start_time": "2021-05-20T14:48:25.449778Z"
        },
        "colab": {
          "base_uri": "https://localhost:8080/"
        },
        "id": "2ftxyg5putlz",
        "outputId": "c74b82f9-83cc-4366-cf0a-1ed3e65654c1"
      },
      "outputs": [
        {
          "output_type": "stream",
          "name": "stdout",
          "text": [
            "a + b = 81.5\n",
            "The type of sum is  <class 'float'>\n"
          ]
        }
      ],
      "source": [
        "a, b = 30.5, 51\n",
        "sum = a + b\n",
        "print(\"a + b =\", sum)\n",
        "\n",
        "print(\"The type of sum is \", type(sum))"
      ]
    },
    {
      "cell_type": "markdown",
      "metadata": {
        "id": "GdPRwkV6utl1"
      },
      "source": [
        "### 2. True or False?"
      ]
    },
    {
      "cell_type": "code",
      "execution_count": 2,
      "metadata": {
        "ExecuteTime": {
          "end_time": "2021-05-20T14:48:25.478475Z",
          "start_time": "2021-05-20T14:48:25.470486Z"
        },
        "colab": {
          "base_uri": "https://localhost:8080/"
        },
        "id": "zhDXbhl5utl2",
        "outputId": "0951923d-3aff-46d1-f14f-65b9959ded3e"
      },
      "outputs": [
        {
          "output_type": "execute_result",
          "data": {
            "text/plain": [
              "True"
            ]
          },
          "metadata": {},
          "execution_count": 2
        }
      ],
      "source": [
        "5 == (3 + 2)"
      ]
    },
    {
      "cell_type": "code",
      "source": [
        "5.00001 == (3 + 2)"
      ],
      "metadata": {
        "colab": {
          "base_uri": "https://localhost:8080/"
        },
        "id": "vnXH4kzjG8TV",
        "outputId": "daf012da-e6d6-4f48-f583-335576ea29fe"
      },
      "execution_count": 3,
      "outputs": [
        {
          "output_type": "execute_result",
          "data": {
            "text/plain": [
              "False"
            ]
          },
          "metadata": {},
          "execution_count": 3
        }
      ]
    },
    {
      "cell_type": "markdown",
      "metadata": {
        "id": "vaRleUjbutl2"
      },
      "source": [
        "## 3. Converting integer to float and float to integer\n",
        "\n"
      ]
    },
    {
      "cell_type": "code",
      "execution_count": 4,
      "metadata": {
        "ExecuteTime": {
          "end_time": "2021-05-20T14:48:25.508158Z",
          "start_time": "2021-05-20T14:48:25.500721Z"
        },
        "colab": {
          "base_uri": "https://localhost:8080/"
        },
        "id": "-_u6FHsTutl4",
        "outputId": "2226c344-29a5-4f9c-bbdf-7fdeaee4485f"
      },
      "outputs": [
        {
          "output_type": "execute_result",
          "data": {
            "text/plain": [
              "float"
            ]
          },
          "metadata": {},
          "execution_count": 4
        }
      ],
      "source": [
        "v = 3\n",
        "v = float(v)\n",
        "type(v)"
      ]
    },
    {
      "cell_type": "code",
      "source": [
        "p = 3.02\n",
        "#p = int(p)\n",
        "type(p)"
      ],
      "metadata": {
        "colab": {
          "base_uri": "https://localhost:8080/"
        },
        "id": "DAsEmhtLIIhc",
        "outputId": "acaf72e5-b527-40b9-c6c4-cc21ff9bfbca"
      },
      "execution_count": 5,
      "outputs": [
        {
          "output_type": "execute_result",
          "data": {
            "text/plain": [
              "float"
            ]
          },
          "metadata": {},
          "execution_count": 5
        }
      ]
    },
    {
      "cell_type": "markdown",
      "metadata": {
        "id": "WmKn8OV4utl5"
      },
      "source": [
        "<a id = 'sec2'></a>\n",
        "## II. Collection of Variables"
      ]
    },
    {
      "cell_type": "markdown",
      "metadata": {
        "id": "Puel7h5gutl5"
      },
      "source": [
        "### 1. Repeat an element a certain number of times"
      ]
    },
    {
      "cell_type": "code",
      "execution_count": 6,
      "metadata": {
        "ExecuteTime": {
          "end_time": "2021-05-20T14:48:25.559404Z",
          "start_time": "2021-05-20T14:48:25.538624Z"
        },
        "id": "5RAQAsnDutl6",
        "outputId": "f004cf14-ad6d-42de-c16a-22f0e191578c",
        "colab": {
          "base_uri": "https://localhost:8080/"
        }
      },
      "outputs": [
        {
          "output_type": "stream",
          "name": "stdout",
          "text": [
            "How many times?5\n",
            "['mango']  repeated  5  times is :  ['mango', 'mango', 'mango', 'mango', 'mango']\n"
          ]
        }
      ],
      "source": [
        "x = ['mango']\n",
        "b = int(input(\"How many times?\"))\n",
        "fruit = x * b\n",
        "print(x, ' repeated ', b, ' times is : ', fruit)"
      ]
    },
    {
      "cell_type": "markdown",
      "metadata": {
        "id": "_wqaaMkrutl6"
      },
      "source": [
        "## 2. Replacement in a list\n",
        "\n",
        "Replace every second element by \"strawberry\" starting for the first element. In python the index of the first element is \"0\"."
      ]
    },
    {
      "cell_type": "code",
      "execution_count": 7,
      "metadata": {
        "id": "kMFsW3hcutl7",
        "colab": {
          "base_uri": "https://localhost:8080/"
        },
        "outputId": "64619d29-cf9d-4999-e5c2-6c54ed0994b4"
      },
      "outputs": [
        {
          "output_type": "stream",
          "name": "stdout",
          "text": [
            "[['strawberry'], 'mango', ['strawberry'], 'mango', ['strawberry']]\n"
          ]
        }
      ],
      "source": [
        "for i in range(len(fruit)):\n",
        "  if (i % 2) == 0:\n",
        "    fruit[i] = [\"strawberry\"]\n",
        "\n",
        "print(fruit)"
      ]
    },
    {
      "cell_type": "markdown",
      "metadata": {
        "id": "cjaKJs-Outl-"
      },
      "source": [
        "### 3. Dictionnary\n",
        "\n",
        "Dictionnary contains for each key value, a label."
      ]
    },
    {
      "cell_type": "code",
      "execution_count": 8,
      "metadata": {
        "ExecuteTime": {
          "end_time": "2021-05-20T14:48:25.638636Z",
          "start_time": "2021-05-20T14:48:25.630590Z"
        },
        "id": "IvUStl4Lutl-",
        "outputId": "006e647d-34c4-43a5-a798-ab1ccc56d87c",
        "colab": {
          "base_uri": "https://localhost:8080/"
        }
      },
      "outputs": [
        {
          "output_type": "stream",
          "name": "stdout",
          "text": [
            "{'brand': 'Audi', 'model': 'Q2', 'year': 1980}\n"
          ]
        }
      ],
      "source": [
        "car = { \"brand\" : \"Audi\",\"model\" : \"Q2\", \"year\" : 1980}\n",
        "print(car)"
      ]
    },
    {
      "cell_type": "markdown",
      "metadata": {
        "id": "4gSYc4LVutl_"
      },
      "source": [
        "<a id = 'sec3'></a>\n",
        "\n",
        "## III. Data Types and String Manipulation"
      ]
    },
    {
      "cell_type": "markdown",
      "metadata": {
        "id": "Bttgui-rutl_"
      },
      "source": [
        "### 1. Printing, capitalizing, and lower case\n"
      ]
    },
    {
      "cell_type": "code",
      "execution_count": 9,
      "metadata": {
        "ExecuteTime": {
          "end_time": "2021-05-20T14:48:25.698733Z",
          "start_time": "2021-05-20T14:48:25.690738Z"
        },
        "id": "FoG7JDDlutmA",
        "outputId": "6dbd444b-e91d-494c-96f4-f56c46178870",
        "colab": {
          "base_uri": "https://localhost:8080/"
        }
      },
      "outputs": [
        {
          "output_type": "stream",
          "name": "stdout",
          "text": [
            "My name is Selidji! I love Python.\n",
            "My introduction is in capital letters:  False\n",
            "My introduction is now in capital letters:  MY NAME IS SELIDJI! I LOVE PYTHON.\n",
            "My introduction is now converted in lower case:  my name is selidji! i love python.\n"
          ]
        }
      ],
      "source": [
        "Text = \"My name is Selidji! I love Python.\"\n",
        "print(Text)\n",
        "\n",
        "print(\"My introduction is in capital letters: \", Text.isupper())\n",
        "Text = Text.upper()\n",
        "print(\"My introduction is now in capital letters: \", Text)\n",
        "Text = Text.lower()\n",
        "print(\"My introduction is now converted in lower case: \", Text)\n"
      ]
    },
    {
      "cell_type": "markdown",
      "metadata": {
        "id": "fFcLWAjqutmC"
      },
      "source": [
        "<a id = 'sec4'></a>\n",
        "\n",
        "### 2. Conditional Statement\n",
        "Let's check if x is less than y."
      ]
    },
    {
      "cell_type": "code",
      "execution_count": 10,
      "metadata": {
        "ExecuteTime": {
          "end_time": "2021-05-20T14:48:25.789559Z",
          "start_time": "2021-05-20T14:48:25.780049Z"
        },
        "id": "qJIYMswDutmE",
        "outputId": "748e4186-766a-4ede-af5b-3bec2dbe10d0",
        "colab": {
          "base_uri": "https://localhost:8080/"
        }
      },
      "outputs": [
        {
          "output_type": "stream",
          "name": "stdout",
          "text": [
            "False\n"
          ]
        }
      ],
      "source": [
        "x = 20\n",
        "y = 0\n",
        "if x <= y: #checking whether 'x' is less than 'y'\n",
        "  print(\"X is less than Y\") #if 'x' is indeed greater than 'y', then print the statement\n",
        "else:\n",
        "  print(x<y)"
      ]
    },
    {
      "cell_type": "markdown",
      "metadata": {
        "id": "Aqol7sIhutmG"
      },
      "source": [
        "### 3. Checking password"
      ]
    },
    {
      "cell_type": "code",
      "execution_count": 11,
      "metadata": {
        "ExecuteTime": {
          "end_time": "2021-05-20T14:48:25.818796Z",
          "start_time": "2021-05-20T14:48:25.798761Z"
        },
        "id": "IfwzUf2jutmH",
        "outputId": "5a385a0a-dd2b-4108-e3ce-e5010f5edd5c",
        "colab": {
          "base_uri": "https://localhost:8080/"
        }
      },
      "outputs": [
        {
          "output_type": "stream",
          "name": "stdout",
          "text": [
            "Please enter your name: Selidji\n",
            "Please enter your ID: Hello\n",
            "Please enter your password: Hello\n",
            "Please verify your ID or contact your administrator to create an account.\n"
          ]
        }
      ],
      "source": [
        "name = input(\"Please enter your name: \")\n",
        "id = input(\"Please enter your ID: \")\n",
        "password = input(\"Please enter your password: \")\n",
        "\n",
        "if id == \"Python\": #conditional statement\n",
        "    if password == \"Jupyter\":\n",
        "      print(\"Welcome Mr \", name) #if the conditional statement is true then print Welcome\n",
        "    else:\n",
        "      print(\"Please verify your password.\")\n",
        "else: #this is used to provide an alternate option or command if in case the conditional statement is not true\n",
        "    print(\"Please verify your ID or contact your administrator to create an account.\") #if the conditional statement is not true then print \"Good Bye\""
      ]
    },
    {
      "cell_type": "markdown",
      "metadata": {
        "id": "42b6Ijg4utmL"
      },
      "source": [
        "<a id = 'sec5'></a>\n",
        "\n",
        "## IV. Loops"
      ]
    },
    {
      "cell_type": "markdown",
      "metadata": {
        "id": "ZLqT9MFHutmL"
      },
      "source": [
        "### 1. Print Data Science 5 times using for loop"
      ]
    },
    {
      "cell_type": "code",
      "execution_count": 12,
      "metadata": {
        "ExecuteTime": {
          "end_time": "2021-05-20T14:48:25.928325Z",
          "start_time": "2021-05-20T14:48:25.910937Z"
        },
        "id": "isOj3Qy7utmM",
        "outputId": "cdc23c48-99ef-4cd4-fb05-19be4163d6c3",
        "colab": {
          "base_uri": "https://localhost:8080/"
        }
      },
      "outputs": [
        {
          "output_type": "stream",
          "name": "stdout",
          "text": [
            "Data Science\n",
            "Data Science\n",
            "Data Science\n",
            "Data Science\n",
            "Data Science\n"
          ]
        }
      ],
      "source": [
        "a = \"Data Science\"\n",
        "for i in range(5): #The iterative variable 'i' is running 5 times\n",
        "    print(a)"
      ]
    },
    {
      "cell_type": "markdown",
      "metadata": {
        "id": "5hY1VZj6utmM"
      },
      "source": [
        "### 2. Print all the even numbers from 1 to 20 (both inclusive) using for loop."
      ]
    },
    {
      "cell_type": "code",
      "execution_count": 13,
      "metadata": {
        "ExecuteTime": {
          "end_time": "2021-05-20T14:48:25.968679Z",
          "start_time": "2021-05-20T14:48:25.950257Z"
        },
        "id": "FLMa8Ci1utmM",
        "outputId": "a1766ce4-28f2-494b-94b3-9e33e9be3915",
        "colab": {
          "base_uri": "https://localhost:8080/"
        }
      },
      "outputs": [
        {
          "output_type": "stream",
          "name": "stdout",
          "text": [
            "2\n",
            "4\n",
            "6\n",
            "8\n",
            "10\n",
            "12\n",
            "14\n",
            "16\n",
            "18\n",
            "20\n",
            "2\n",
            "4\n",
            "6\n",
            "8\n",
            "10\n",
            "12\n",
            "14\n",
            "16\n",
            "18\n",
            "20\n"
          ]
        }
      ],
      "source": [
        "for i in range(2,21,2): #here the loop is running from 2 to 21 at an interval of 2\n",
        "    print(i)\n",
        "\n",
        "for x in range(20+1):\n",
        "  if x > 0 and x % 2 ==0:\n",
        "    print(x)"
      ]
    },
    {
      "cell_type": "markdown",
      "metadata": {
        "id": "wCviVE8SutmN"
      },
      "source": [
        "<a id = 'sec6'></a>\n",
        "\n",
        "## V. Function"
      ]
    },
    {
      "cell_type": "markdown",
      "metadata": {
        "id": "_lmMZmEwutmN"
      },
      "source": [
        "### 1. Check whether the number 33 is even or odd"
      ]
    },
    {
      "cell_type": "code",
      "execution_count": 14,
      "metadata": {
        "id": "B8k6In5dutmN"
      },
      "outputs": [],
      "source": [
        "def even_odd(y):\n",
        "    if(y % 2 == 0):\n",
        "        return 'the number is even'\n",
        "    else:\n",
        "        return 'the number is odd'"
      ]
    },
    {
      "cell_type": "code",
      "execution_count": 15,
      "metadata": {
        "id": "A2JxGpbUutmN",
        "outputId": "6a0424d8-fac2-4fcb-8a72-4e07c7f6f7f9",
        "colab": {
          "base_uri": "https://localhost:8080/",
          "height": 37
        }
      },
      "outputs": [
        {
          "output_type": "execute_result",
          "data": {
            "text/plain": [
              "'the number is odd'"
            ],
            "application/vnd.google.colaboratory.intrinsic+json": {
              "type": "string"
            }
          },
          "metadata": {},
          "execution_count": 15
        }
      ],
      "source": [
        "even_odd(33)"
      ]
    },
    {
      "cell_type": "code",
      "source": [
        "even_odd(12)"
      ],
      "metadata": {
        "colab": {
          "base_uri": "https://localhost:8080/",
          "height": 37
        },
        "id": "ZTPe9TAVWaLh",
        "outputId": "af3a7005-e8ba-487e-f34f-51b1607b4842"
      },
      "execution_count": 16,
      "outputs": [
        {
          "output_type": "execute_result",
          "data": {
            "text/plain": [
              "'the number is even'"
            ],
            "application/vnd.google.colaboratory.intrinsic+json": {
              "type": "string"
            }
          },
          "metadata": {},
          "execution_count": 16
        }
      ]
    },
    {
      "cell_type": "markdown",
      "metadata": {
        "id": "CiLEU3mxutmO"
      },
      "source": [
        "### 2. Getting the unique values from a given list"
      ]
    },
    {
      "cell_type": "code",
      "execution_count": 17,
      "metadata": {
        "id": "gMhR1IitutmO"
      },
      "outputs": [],
      "source": [
        "def set(list):\n",
        "    l=[]\n",
        "    for i in list:\n",
        "        if(i not in l):\n",
        "            l.append(i)\n",
        "    return l"
      ]
    },
    {
      "cell_type": "code",
      "execution_count": 18,
      "metadata": {
        "id": "uQZbGWmgutmO",
        "outputId": "289355bd-2b68-4e05-a7be-6e52afe46e7e",
        "colab": {
          "base_uri": "https://localhost:8080/"
        }
      },
      "outputs": [
        {
          "output_type": "execute_result",
          "data": {
            "text/plain": [
              "[1, 2, 3, 11, 34, 4, 5]"
            ]
          },
          "metadata": {},
          "execution_count": 18
        }
      ],
      "source": [
        "list = [1,2,3,3,11,34,3,3,4,5]\n",
        "set(list)"
      ]
    },
    {
      "cell_type": "markdown",
      "metadata": {
        "id": "AWXMeNGiutmP"
      },
      "source": [
        "### 3. Addition without Argument."
      ]
    },
    {
      "cell_type": "code",
      "execution_count": 19,
      "metadata": {
        "id": "cqAS7-bDutmP"
      },
      "outputs": [],
      "source": [
        "var1=1204\n",
        "var2=344536\n",
        "\n",
        "def f():\n",
        "    return var1+var2"
      ]
    },
    {
      "cell_type": "code",
      "execution_count": 20,
      "metadata": {
        "id": "1XcxlqE0utmP",
        "outputId": "761a38f8-3bb1-4d74-fec0-244442a1c59e",
        "colab": {
          "base_uri": "https://localhost:8080/"
        }
      },
      "outputs": [
        {
          "output_type": "execute_result",
          "data": {
            "text/plain": [
              "345740"
            ]
          },
          "metadata": {},
          "execution_count": 20
        }
      ],
      "source": [
        "f()"
      ]
    }
  ],
  "metadata": {
    "kernelspec": {
      "display_name": "Python 3 (ipykernel)",
      "language": "python",
      "name": "python3"
    },
    "language_info": {
      "codemirror_mode": {
        "name": "ipython",
        "version": 3
      },
      "file_extension": ".py",
      "mimetype": "text/x-python",
      "name": "python",
      "nbconvert_exporter": "python",
      "pygments_lexer": "ipython3",
      "version": "3.9.7"
    },
    "toc": {
      "base_numbering": 1,
      "nav_menu": {},
      "number_sections": true,
      "sideBar": true,
      "skip_h1_title": false,
      "title_cell": "Table of Contents",
      "title_sidebar": "Contents",
      "toc_cell": false,
      "toc_position": {},
      "toc_section_display": true,
      "toc_window_display": false
    },
    "colab": {
      "name": "basics_python.ipynb",
      "provenance": []
    }
  },
  "nbformat": 4,
  "nbformat_minor": 0
}